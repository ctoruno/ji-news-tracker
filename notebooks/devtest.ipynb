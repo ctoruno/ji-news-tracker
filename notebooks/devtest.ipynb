{
 "cells": [
  {
   "cell_type": "code",
   "execution_count": 17,
   "id": "8d6fa631",
   "metadata": {},
   "outputs": [],
   "source": [
    "import pandas as pd\n",
    "from openai import OpenAI\n",
    "from pydantic import BaseModel, Field"
   ]
  },
  {
   "cell_type": "code",
   "execution_count": 83,
   "id": "e94584d2",
   "metadata": {},
   "outputs": [],
   "source": [
    "df = pd.read_parquet(\"../data/master_data_p1.parquet.gzip\")"
   ]
  },
  {
   "cell_type": "code",
   "execution_count": 84,
   "id": "28c8132c",
   "metadata": {},
   "outputs": [],
   "source": [
    "try:\n",
    "    previous_data = pd.read_parquet(\"../data/proccessed_data_p1.parquet.gzip\")\n",
    "    proccessed_articles = previous_data.id.to_list()\n",
    "except FileNotFoundError:\n",
    "    previous_data = None\n",
    "    proccessed_articles = []"
   ]
  },
  {
   "cell_type": "code",
   "execution_count": null,
   "id": "5223f7ac",
   "metadata": {},
   "outputs": [],
   "source": [
    "reduced_data = df[~df[\"id\"].isin(proccessed_articles)]\n",
    "data = reduced_data.copy()\n",
    "data[\"token_count\"] = data[\"summary\"].apply(lambda x: len(x.split()))\n",
    "data[\"cum_token_count\"] = data[\"token_count\"].cumsum()\n",
    "\n",
    "batch = (\n",
    "    data.copy()\n",
    "    .loc[data[\"cum_token_count\"] <= 500000]\n",
    ")"
   ]
  },
  {
   "cell_type": "code",
   "execution_count": 78,
   "id": "6dcfb802",
   "metadata": {},
   "outputs": [
    {
     "data": {
      "application/vnd.microsoft.datawrangler.viewer.v0+json": {
       "columns": [
        {
         "name": "index",
         "rawType": "object",
         "type": "string"
        },
        {
         "name": "published_date",
         "rawType": "object",
         "type": "unknown"
        },
        {
         "name": "impact_score",
         "rawType": "float64",
         "type": "float"
        },
        {
         "name": "token_count",
         "rawType": "float64",
         "type": "float"
        },
        {
         "name": "cum_token_count",
         "rawType": "float64",
         "type": "float"
        }
       ],
       "conversionMethod": "pd.DataFrame",
       "ref": "c65eb6ec-c696-44b9-9d9d-8fc3e266b1b6",
       "rows": [
        [
         "count",
         "6351",
         "6351.0",
         "6351.0",
         "6351.0"
        ],
        [
         "mean",
         "2023-10-07 12:55:53.234451200",
         "2.492835773893875",
         "78.71878444339474",
         "253177.22720831365"
        ],
        [
         "min",
         "2023-03-07 10:32:00",
         "0.0",
         "2.0",
         "64.0"
        ],
        [
         "25%",
         "2023-07-18 11:00:16.500000",
         "1.0",
         "59.0",
         "122180.5"
        ],
        [
         "50%",
         "2023-10-11 12:50:26",
         "3.0",
         "75.0",
         "258749.0"
        ],
        [
         "75%",
         "2023-12-21 14:49:53",
         "3.0",
         "93.0",
         "381202.0"
        ],
        [
         "max",
         "2024-03-07 20:34:05",
         "5.0",
         "1488.0",
         "499943.0"
        ],
        [
         "std",
         null,
         "1.3744246628936854",
         "37.219852777649535",
         "147795.9599775041"
        ]
       ],
       "shape": {
        "columns": 4,
        "rows": 8
       }
      },
      "text/html": [
       "<div>\n",
       "<style scoped>\n",
       "    .dataframe tbody tr th:only-of-type {\n",
       "        vertical-align: middle;\n",
       "    }\n",
       "\n",
       "    .dataframe tbody tr th {\n",
       "        vertical-align: top;\n",
       "    }\n",
       "\n",
       "    .dataframe thead th {\n",
       "        text-align: right;\n",
       "    }\n",
       "</style>\n",
       "<table border=\"1\" class=\"dataframe\">\n",
       "  <thead>\n",
       "    <tr style=\"text-align: right;\">\n",
       "      <th></th>\n",
       "      <th>published_date</th>\n",
       "      <th>impact_score</th>\n",
       "      <th>token_count</th>\n",
       "      <th>cum_token_count</th>\n",
       "    </tr>\n",
       "  </thead>\n",
       "  <tbody>\n",
       "    <tr>\n",
       "      <th>count</th>\n",
       "      <td>6351</td>\n",
       "      <td>6351.000000</td>\n",
       "      <td>6351.000000</td>\n",
       "      <td>6351.000000</td>\n",
       "    </tr>\n",
       "    <tr>\n",
       "      <th>mean</th>\n",
       "      <td>2023-10-07 12:55:53.234451200</td>\n",
       "      <td>2.492836</td>\n",
       "      <td>78.718784</td>\n",
       "      <td>253177.227208</td>\n",
       "    </tr>\n",
       "    <tr>\n",
       "      <th>min</th>\n",
       "      <td>2023-03-07 10:32:00</td>\n",
       "      <td>0.000000</td>\n",
       "      <td>2.000000</td>\n",
       "      <td>64.000000</td>\n",
       "    </tr>\n",
       "    <tr>\n",
       "      <th>25%</th>\n",
       "      <td>2023-07-18 11:00:16.500000</td>\n",
       "      <td>1.000000</td>\n",
       "      <td>59.000000</td>\n",
       "      <td>122180.500000</td>\n",
       "    </tr>\n",
       "    <tr>\n",
       "      <th>50%</th>\n",
       "      <td>2023-10-11 12:50:26</td>\n",
       "      <td>3.000000</td>\n",
       "      <td>75.000000</td>\n",
       "      <td>258749.000000</td>\n",
       "    </tr>\n",
       "    <tr>\n",
       "      <th>75%</th>\n",
       "      <td>2023-12-21 14:49:53</td>\n",
       "      <td>3.000000</td>\n",
       "      <td>93.000000</td>\n",
       "      <td>381202.000000</td>\n",
       "    </tr>\n",
       "    <tr>\n",
       "      <th>max</th>\n",
       "      <td>2024-03-07 20:34:05</td>\n",
       "      <td>5.000000</td>\n",
       "      <td>1488.000000</td>\n",
       "      <td>499943.000000</td>\n",
       "    </tr>\n",
       "    <tr>\n",
       "      <th>std</th>\n",
       "      <td>NaN</td>\n",
       "      <td>1.374425</td>\n",
       "      <td>37.219853</td>\n",
       "      <td>147795.959978</td>\n",
       "    </tr>\n",
       "  </tbody>\n",
       "</table>\n",
       "</div>"
      ],
      "text/plain": [
       "                      published_date  impact_score  token_count  \\\n",
       "count                           6351   6351.000000  6351.000000   \n",
       "mean   2023-10-07 12:55:53.234451200      2.492836    78.718784   \n",
       "min              2023-03-07 10:32:00      0.000000     2.000000   \n",
       "25%       2023-07-18 11:00:16.500000      1.000000    59.000000   \n",
       "50%              2023-10-11 12:50:26      3.000000    75.000000   \n",
       "75%              2023-12-21 14:49:53      3.000000    93.000000   \n",
       "max              2024-03-07 20:34:05      5.000000  1488.000000   \n",
       "std                              NaN      1.374425    37.219853   \n",
       "\n",
       "       cum_token_count  \n",
       "count      6351.000000  \n",
       "mean     253177.227208  \n",
       "min          64.000000  \n",
       "25%      122180.500000  \n",
       "50%      258749.000000  \n",
       "75%      381202.000000  \n",
       "max      499943.000000  \n",
       "std      147795.959978  "
      ]
     },
     "execution_count": 78,
     "metadata": {},
     "output_type": "execute_result"
    }
   ],
   "source": [
    "batch.describe()"
   ]
  }
 ],
 "metadata": {
  "kernelspec": {
   "display_name": "nlp-clean",
   "language": "python",
   "name": "python3"
  },
  "language_info": {
   "codemirror_mode": {
    "name": "ipython",
    "version": 3
   },
   "file_extension": ".py",
   "mimetype": "text/x-python",
   "name": "python",
   "nbconvert_exporter": "python",
   "pygments_lexer": "ipython3",
   "version": "3.13.2"
  }
 },
 "nbformat": 4,
 "nbformat_minor": 5
}
