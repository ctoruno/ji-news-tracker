{
 "cells": [
  {
   "cell_type": "code",
   "execution_count": 5,
   "id": "e94584d2",
   "metadata": {},
   "outputs": [],
   "source": [
    "import pandas as pd\n",
    "df = pd.read_parquet(\"../data/proccessed_data_p1.parquet.gzip\")\n",
    "ji_related_data = df[df[\"status\"] == \"TRUE\"]\n",
    "all_data = pd.read_parquet(\"../data/master_data_p1.parquet.gzip\")"
   ]
  },
  {
   "cell_type": "code",
   "execution_count": 6,
   "id": "a53335bd",
   "metadata": {},
   "outputs": [
    {
     "data": {
      "application/vnd.microsoft.datawrangler.viewer.v0+json": {
       "columns": [
        {
         "name": "index",
         "rawType": "object",
         "type": "string"
        },
        {
         "name": "published_date",
         "rawType": "object",
         "type": "unknown"
        },
        {
         "name": "impact_score",
         "rawType": "float64",
         "type": "float"
        },
        {
         "name": "token_count",
         "rawType": "float64",
         "type": "float"
        },
        {
         "name": "cum_token_count",
         "rawType": "float64",
         "type": "float"
        }
       ],
       "conversionMethod": "pd.DataFrame",
       "ref": "d24bd444-26ce-47be-8a97-daca51113ef6",
       "rows": [
        [
         "count",
         "25981",
         "25981.0",
         "25981.0",
         "25981.0"
        ],
        [
         "mean",
         "2023-11-30 13:35:41.216042496",
         "2.4153419806781877",
         "115.56125630268274",
         "249930.5799622801"
        ],
        [
         "min",
         "2023-03-08 12:14:00",
         "0.0",
         "2.0",
         "55.0"
        ],
        [
         "25%",
         "2023-10-06 13:21:10",
         "1.0",
         "69.0",
         "124421.0"
        ],
        [
         "50%",
         "2023-12-05 20:52:43",
         "3.0",
         "89.0",
         "250275.0"
        ],
        [
         "75%",
         "2024-01-28 11:14:37",
         "3.0",
         "116.0",
         "375170.0"
        ],
        [
         "max",
         "2024-03-08 13:40:00",
         "5.0",
         "1397.0",
         "499990.0"
        ],
        [
         "std",
         null,
         "1.3761837187148938",
         "85.0939511026759",
         "144589.07270900338"
        ]
       ],
       "shape": {
        "columns": 4,
        "rows": 8
       }
      },
      "text/html": [
       "<div>\n",
       "<style scoped>\n",
       "    .dataframe tbody tr th:only-of-type {\n",
       "        vertical-align: middle;\n",
       "    }\n",
       "\n",
       "    .dataframe tbody tr th {\n",
       "        vertical-align: top;\n",
       "    }\n",
       "\n",
       "    .dataframe thead th {\n",
       "        text-align: right;\n",
       "    }\n",
       "</style>\n",
       "<table border=\"1\" class=\"dataframe\">\n",
       "  <thead>\n",
       "    <tr style=\"text-align: right;\">\n",
       "      <th></th>\n",
       "      <th>published_date</th>\n",
       "      <th>impact_score</th>\n",
       "      <th>token_count</th>\n",
       "      <th>cum_token_count</th>\n",
       "    </tr>\n",
       "  </thead>\n",
       "  <tbody>\n",
       "    <tr>\n",
       "      <th>count</th>\n",
       "      <td>25981</td>\n",
       "      <td>25981.000000</td>\n",
       "      <td>25981.000000</td>\n",
       "      <td>25981.000000</td>\n",
       "    </tr>\n",
       "    <tr>\n",
       "      <th>mean</th>\n",
       "      <td>2023-11-30 13:35:41.216042496</td>\n",
       "      <td>2.415342</td>\n",
       "      <td>115.561256</td>\n",
       "      <td>249930.579962</td>\n",
       "    </tr>\n",
       "    <tr>\n",
       "      <th>min</th>\n",
       "      <td>2023-03-08 12:14:00</td>\n",
       "      <td>0.000000</td>\n",
       "      <td>2.000000</td>\n",
       "      <td>55.000000</td>\n",
       "    </tr>\n",
       "    <tr>\n",
       "      <th>25%</th>\n",
       "      <td>2023-10-06 13:21:10</td>\n",
       "      <td>1.000000</td>\n",
       "      <td>69.000000</td>\n",
       "      <td>124421.000000</td>\n",
       "    </tr>\n",
       "    <tr>\n",
       "      <th>50%</th>\n",
       "      <td>2023-12-05 20:52:43</td>\n",
       "      <td>3.000000</td>\n",
       "      <td>89.000000</td>\n",
       "      <td>250275.000000</td>\n",
       "    </tr>\n",
       "    <tr>\n",
       "      <th>75%</th>\n",
       "      <td>2024-01-28 11:14:37</td>\n",
       "      <td>3.000000</td>\n",
       "      <td>116.000000</td>\n",
       "      <td>375170.000000</td>\n",
       "    </tr>\n",
       "    <tr>\n",
       "      <th>max</th>\n",
       "      <td>2024-03-08 13:40:00</td>\n",
       "      <td>5.000000</td>\n",
       "      <td>1397.000000</td>\n",
       "      <td>499990.000000</td>\n",
       "    </tr>\n",
       "    <tr>\n",
       "      <th>std</th>\n",
       "      <td>NaN</td>\n",
       "      <td>1.376184</td>\n",
       "      <td>85.093951</td>\n",
       "      <td>144589.072709</td>\n",
       "    </tr>\n",
       "  </tbody>\n",
       "</table>\n",
       "</div>"
      ],
      "text/plain": [
       "                      published_date  impact_score   token_count  \\\n",
       "count                          25981  25981.000000  25981.000000   \n",
       "mean   2023-11-30 13:35:41.216042496      2.415342    115.561256   \n",
       "min              2023-03-08 12:14:00      0.000000      2.000000   \n",
       "25%              2023-10-06 13:21:10      1.000000     69.000000   \n",
       "50%              2023-12-05 20:52:43      3.000000     89.000000   \n",
       "75%              2024-01-28 11:14:37      3.000000    116.000000   \n",
       "max              2024-03-08 13:40:00      5.000000   1397.000000   \n",
       "std                              NaN      1.376184     85.093951   \n",
       "\n",
       "       cum_token_count  \n",
       "count     25981.000000  \n",
       "mean     249930.579962  \n",
       "min          55.000000  \n",
       "25%      124421.000000  \n",
       "50%      250275.000000  \n",
       "75%      375170.000000  \n",
       "max      499990.000000  \n",
       "std      144589.072709  "
      ]
     },
     "execution_count": 6,
     "metadata": {},
     "output_type": "execute_result"
    }
   ],
   "source": [
    "df.describe()"
   ]
  },
  {
   "cell_type": "code",
   "execution_count": 7,
   "id": "09ace18d",
   "metadata": {},
   "outputs": [
    {
     "data": {
      "application/vnd.microsoft.datawrangler.viewer.v0+json": {
       "columns": [
        {
         "name": "index",
         "rawType": "object",
         "type": "string"
        },
        {
         "name": "published_date",
         "rawType": "object",
         "type": "unknown"
        },
        {
         "name": "impact_score",
         "rawType": "float64",
         "type": "float"
        }
       ],
       "conversionMethod": "pd.DataFrame",
       "ref": "20875c5e-b2f6-4b72-8d95-d85ddb55abc7",
       "rows": [
        [
         "count",
         "127860",
         "127860.0"
        ],
        [
         "mean",
         "2023-11-30 15:42:45.022227712",
         "2.408994212419834"
        ],
        [
         "min",
         "2023-03-07 10:32:00",
         "0.0"
        ],
        [
         "25%",
         "2023-10-06 13:12:47",
         "1.0"
        ],
        [
         "50%",
         "2023-12-06 07:44:16",
         "3.0"
        ],
        [
         "75%",
         "2024-01-28 17:41:18.500000",
         "3.0"
        ],
        [
         "max",
         "2024-03-08 13:40:00",
         "5.0"
        ],
        [
         "std",
         null,
         "1.378353684988474"
        ]
       ],
       "shape": {
        "columns": 2,
        "rows": 8
       }
      },
      "text/html": [
       "<div>\n",
       "<style scoped>\n",
       "    .dataframe tbody tr th:only-of-type {\n",
       "        vertical-align: middle;\n",
       "    }\n",
       "\n",
       "    .dataframe tbody tr th {\n",
       "        vertical-align: top;\n",
       "    }\n",
       "\n",
       "    .dataframe thead th {\n",
       "        text-align: right;\n",
       "    }\n",
       "</style>\n",
       "<table border=\"1\" class=\"dataframe\">\n",
       "  <thead>\n",
       "    <tr style=\"text-align: right;\">\n",
       "      <th></th>\n",
       "      <th>published_date</th>\n",
       "      <th>impact_score</th>\n",
       "    </tr>\n",
       "  </thead>\n",
       "  <tbody>\n",
       "    <tr>\n",
       "      <th>count</th>\n",
       "      <td>127860</td>\n",
       "      <td>127860.000000</td>\n",
       "    </tr>\n",
       "    <tr>\n",
       "      <th>mean</th>\n",
       "      <td>2023-11-30 15:42:45.022227712</td>\n",
       "      <td>2.408994</td>\n",
       "    </tr>\n",
       "    <tr>\n",
       "      <th>min</th>\n",
       "      <td>2023-03-07 10:32:00</td>\n",
       "      <td>0.000000</td>\n",
       "    </tr>\n",
       "    <tr>\n",
       "      <th>25%</th>\n",
       "      <td>2023-10-06 13:12:47</td>\n",
       "      <td>1.000000</td>\n",
       "    </tr>\n",
       "    <tr>\n",
       "      <th>50%</th>\n",
       "      <td>2023-12-06 07:44:16</td>\n",
       "      <td>3.000000</td>\n",
       "    </tr>\n",
       "    <tr>\n",
       "      <th>75%</th>\n",
       "      <td>2024-01-28 17:41:18.500000</td>\n",
       "      <td>3.000000</td>\n",
       "    </tr>\n",
       "    <tr>\n",
       "      <th>max</th>\n",
       "      <td>2024-03-08 13:40:00</td>\n",
       "      <td>5.000000</td>\n",
       "    </tr>\n",
       "    <tr>\n",
       "      <th>std</th>\n",
       "      <td>NaN</td>\n",
       "      <td>1.378354</td>\n",
       "    </tr>\n",
       "  </tbody>\n",
       "</table>\n",
       "</div>"
      ],
      "text/plain": [
       "                      published_date   impact_score\n",
       "count                         127860  127860.000000\n",
       "mean   2023-11-30 15:42:45.022227712       2.408994\n",
       "min              2023-03-07 10:32:00       0.000000\n",
       "25%              2023-10-06 13:12:47       1.000000\n",
       "50%              2023-12-06 07:44:16       3.000000\n",
       "75%       2024-01-28 17:41:18.500000       3.000000\n",
       "max              2024-03-08 13:40:00       5.000000\n",
       "std                              NaN       1.378354"
      ]
     },
     "execution_count": 7,
     "metadata": {},
     "output_type": "execute_result"
    }
   ],
   "source": [
    "all_data.describe()"
   ]
  }
 ],
 "metadata": {
  "kernelspec": {
   "display_name": ".venv",
   "language": "python",
   "name": "python3"
  },
  "language_info": {
   "codemirror_mode": {
    "name": "ipython",
    "version": 3
   },
   "file_extension": ".py",
   "mimetype": "text/x-python",
   "name": "python",
   "nbconvert_exporter": "python",
   "pygments_lexer": "ipython3",
   "version": "3.11.9"
  }
 },
 "nbformat": 4,
 "nbformat_minor": 5
}
