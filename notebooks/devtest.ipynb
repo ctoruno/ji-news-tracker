{
 "cells": [
  {
   "cell_type": "code",
   "execution_count": 1,
   "id": "e94584d2",
   "metadata": {},
   "outputs": [],
   "source": [
    "import pandas as pd\n",
    "df = pd.read_parquet(\"../data/proccessed_data_p1.parquet.gzip\")\n",
    "ji_related_data = df[df[\"status\"] == \"TRUE\"]"
   ]
  }
 ],
 "metadata": {
  "kernelspec": {
   "display_name": ".venv",
   "language": "python",
   "name": "python3"
  },
  "language_info": {
   "codemirror_mode": {
    "name": "ipython",
    "version": 3
   },
   "file_extension": ".py",
   "mimetype": "text/x-python",
   "name": "python",
   "nbconvert_exporter": "python",
   "pygments_lexer": "ipython3",
   "version": "3.11.9"
  }
 },
 "nbformat": 4,
 "nbformat_minor": 5
}
